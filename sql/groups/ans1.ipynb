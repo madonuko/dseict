{
 "cells": [
  {
   "cell_type": "code",
   "execution_count": null,
   "metadata": {
    "vscode": {
     "languageId": "sql"
    }
   },
   "outputs": [],
   "source": [
    "-- 1.\n",
    "SELECT exam, sid, ename, MAX(mark) FROM marks\n",
    "INNER JOIN students ON marks.student = students.sid\n",
    "GROUP BY exam\n",
    "HAVING mark = MAX(mark);\n",
    "\n",
    "-- 2.\n",
    "SELECT exam, AVG(mark) FROM marks\n",
    "GROUP BY exam;\n",
    "\n",
    "-- 3.\n",
    "SELECT ename, class FROM students AS t1\n",
    "GROUP BY class\n",
    "HAVING sid = (\n",
    "  SELECT sid FROM students AS t2\n",
    "  INNER JOIN marks ON sid = student\n",
    "  WHERE t2.class = t1.class\n",
    "  GROUP BY student\n",
    "  HAVING SUM(mark) = MAX(SUM(mark))\n",
    ");\n",
    "\n",
    "-- 4.\n",
    "SELECT exam FROM marks AS t1\n",
    "INNER JOIN exams ON eid = exam\n",
    "GROUP BY exam\n",
    "HAVING AVG(mark/fullmark) = MIN(\n",
    "  SELECT AVG(mark/fullmark) FROM marks GROUP BY exam\n",
    ");\n",
    "\n",
    "-- 5.\n",
    "CREATE VIEW teach_to_marks AS\n",
    "SELECT subj, class, AVG(mark/fullmark) AS m FROM teach\n",
    "JOIN students ON students.class = teach.class\n",
    "JOIN exams ON exams.subj = teach.subj\n",
    "GROUP BY subj, class;\n",
    "\n",
    "SELECT t1.ename FROM teachers AS t1\n",
    "JOIN teach_to_marks ON\n",
    "  teach_to_marks.subj = t1.subj AND teach_to_marks.class = t1.class\n",
    "ORDER BY m DESC;\n",
    "\n",
    "-- 6. Each subject and class could have more than 1 teachers. (For example PE lessons)"
   ]
  }
 ],
 "metadata": {
  "language_info": {
   "name": "python"
  }
 },
 "nbformat": 4,
 "nbformat_minor": 2
}
