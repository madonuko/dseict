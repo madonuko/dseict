{
 "cells": [
  {
   "cell_type": "markdown",
   "metadata": {},
   "source": [
    "# Group By Quiz 1\n",
    "(Created on 2024-06-30)\n",
    "\n",
    "Consider the following query:"
   ]
  },
  {
   "cell_type": "code",
   "execution_count": null,
   "metadata": {
    "vscode": {
     "languageId": "sql"
    }
   },
   "outputs": [],
   "source": [
    "CREATE TABLE students (\n",
    "  sid       INTEGER NOT NULL PRIMARY KEY,\n",
    "  ename     VARCHAR(255) NOT NULL,\n",
    "  class     CHAR(2) NOT NULL\n",
    ");\n",
    "CREATE TABLE exams (\n",
    "  eid       INTEGER NOT NULL PRIMARY KEY,\n",
    "  subj      VARCHAR(255) NOT NULL,\n",
    "  paper     VARCHAR(7) NOT NULL,\n",
    "  examdate  DATE NOT NULL,\n",
    "  fullmark  INTEGER NOT NULL\n",
    ");\n",
    "CREATE TABLE marks (\n",
    "  student   INTEGER NOT NULL REFERENCES students(sid),\n",
    "  exam      INTEGER NOT NULL REFERENCES exams(eid),\n",
    "  mark      INTEGER\n",
    ");"
   ]
  },
  {
   "cell_type": "markdown",
   "metadata": {},
   "source": [
    "1. (Lvl 5) Write a query showing the student (and their score) with the highest mark for each exam.\n",
    "2. (Lvl 4) Write a query showing the average mark for each exam.\n",
    "3. (Lvl 5) Write a query showing the student with the best results for each class.\n",
    "4. (Lvl 5) Find the hardest exam (which students perform the poorest).\n",
    "\n",
    "Consider the following additional query:"
   ]
  },
  {
   "cell_type": "code",
   "execution_count": null,
   "metadata": {
    "vscode": {
     "languageId": "sql"
    }
   },
   "outputs": [],
   "source": [
    "CREATE TABLE teachers (\n",
    "  tid       INTEGER NOT NULL PRIMARY KEY,\n",
    "  ename     VARCHAR(255) NOT NULL,\n",
    ");\n",
    "CREATE TABLE teach (\n",
    "  subj      VARCHAR(255) NOT NULL,\n",
    "  teach     INTEGER NOT NULL REFERENCES TEACHERS(tid),\n",
    "  class     CHAR(2) NOT NULL\n",
    ");"
   ]
  },
  {
   "cell_type": "markdown",
   "metadata": {},
   "source": [
    "5. (Lvl 5**) Write a query listing out names of teachers in descending order of their performance, which is evaluated by the performance of their students in their exams.\n",
    "6. (Lvl 3) State a reasonable rationale behind not setting `subj + class` as a primary key in table `teach`."
   ]
  }
 ],
 "metadata": {
  "language_info": {
   "name": "python"
  }
 },
 "nbformat": 4,
 "nbformat_minor": 2
}
