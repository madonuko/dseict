{
 "cells": [
  {
   "cell_type": "markdown",
   "metadata": {},
   "source": [
    "1. Open https://www.sqlitetutorial.net/wp-content/uploads/2018/03/sqlite-sample-database-diagram-color.pdf\n",
    "2. https://sqliteonline.com/, import the database `chinook.sql`"
   ]
  },
  {
   "cell_type": "markdown",
   "metadata": {},
   "source": [
    "# SQL Test\n",
    "\n",
    "Big thanks to sqlitetutorial.net for providing such a high quality sample database!\n",
    "\n",
    "1. (Lvl 2) List out tracks cheaper than 1 dollar.\n",
    "2. (Lvl 2) List out tracks longer than 3 minute and larger than 10 MiB.\n",
    "3. (Lvl 3½) Show all track names with their corresponding album titles.\n",
    "4. (Lvl 4) Consider the following:\n",
    "    ```sql\n",
    "    SELECT Name from media_types;\n",
    "    ```\n",
    "    ```\n",
    "    ┏━━━━━━━━━━━━━━━━━━━━━━━━━━━━━┓\n",
    "    ┃             Name            ┃\n",
    "    ┡━━━━━━━━━━━━━━━━━━━━━━━━━━━━━┩\n",
    "    │ MPEG audio file             │\n",
    "    │ Protected AAC audio file    │\n",
    "    │ Protected MPEG-4 video file │\n",
    "    │ Purchased AAC audio file    │\n",
    "    │ AAC audio file              │\n",
    "    └─────────────────────────────┘\n",
    "    ```\n",
    "    List out only tracks under any AAC format.\n",
    "5. (Lvl 5) List out tracks that don't have the same composer as their album artist."
   ]
  }
 ],
 "metadata": {
  "language_info": {
   "name": "python"
  }
 },
 "nbformat": 4,
 "nbformat_minor": 2
}
