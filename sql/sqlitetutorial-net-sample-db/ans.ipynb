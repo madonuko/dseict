{
 "cells": [
  {
   "cell_type": "code",
   "execution_count": null,
   "metadata": {
    "vscode": {
     "languageId": "sql"
    }
   },
   "outputs": [],
   "source": [
    "-- ANSWERS\n",
    "\n",
    "-- If your answer is different and you don't know if it's correct,\n",
    "-- check the number of rows using COUNT(*).\n",
    "\n",
    "-- 1.\n",
    "SELECT * FROM tracks\n",
    "WHERE UnitPrice < 1;\n",
    "\n",
    "\n",
    "-- 2.\n",
    "SELECT * FROM tracks\n",
    "WHERE Bytes > 1024*1024*10 AND Milliseconds > 3*60*1000;\n",
    "\n",
    "\n",
    "-- 3.\n",
    "SELECT Name, Title FROM tracks, albums\n",
    "WHERE tracks.AlbumId = albums.AlbumId;\n",
    "\n",
    "-- Check: 3503 rows\n",
    "\n",
    "\n",
    "-- 4.\n",
    "-- sol. A: subquery\n",
    "SELECT * FROM tracks\n",
    "WHERE MediaTypeId IN (\n",
    "  SELECT MediaTypeId FROM media_types WHERE Name LIKE '%AAC%'\n",
    ");\n",
    "\n",
    "-- sol. B: join\n",
    "select * FROM tracks\n",
    "JOIN media_types ON media_types.MediaTypeId = tracks.MediaTypeId\n",
    "WHERE media_types.Name LIKE '%AAC%';\n",
    "\n",
    "-- Check: 255 rows\n",
    "\n",
    "\n",
    "-- 5.\n",
    "-- sol A: subquery\n",
    "SELECT * FROM tracks\n",
    "WHERE Composer != (\n",
    "  SELECT Name FROM artists WHERE ArtistId = (\n",
    "    SELECT ArtistId FROM albums WHERE albums.AlbumId == tracks.AlbumId\n",
    "  )\n",
    ");\n",
    "\n",
    "-- sol B: equi-join\n",
    "SELECT * FROM tracks, albums, artists\n",
    "WHERE Composer != artists.Name\n",
    "AND artists.ArtistId = albums.ArtistId\n",
    "AND albums.AlbumId = tracks.AlbumId;\n",
    "\n",
    "\n",
    "-- Check: 2168 rows"
   ]
  }
 ],
 "metadata": {
  "language_info": {
   "name": "python"
  }
 },
 "nbformat": 4,
 "nbformat_minor": 2
}
