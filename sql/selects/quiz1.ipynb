{
 "cells": [
  {
   "cell_type": "markdown",
   "metadata": {},
   "source": [
    "# Selects Quiz 1\n",
    "(Created on 2024-06-18)\n",
    "\n",
    "Open the database in `quiz1.sqlite`: (The following is an extract)\n",
    "```\n",
    "┏╸TABLE: students╺━━━━━━━┳━━━━━━━━━━┓\n",
    "┃  id  ┃      ename      ┃ joinyear ┃\n",
    "┡━━━━━━╇━━━━━━━━━━━━━━━━━╇━━━━━━━━━━┩\n",
    "│ 0001 │ Chan Tai Man    │   2020   │\n",
    "├──────┼─────────────────┼──────────┤\n",
    "│ 0002 │ Cheung Siu Mei  │   2019   │\n",
    "├──────┼─────────────────┼──────────┤\n",
    "│ 0003 │ Fung Yat Sum    │   2019   │\n",
    "├──────┼─────────────────┼──────────┤\n",
    "┊      ┊                 ┊          ┊\n",
    "```\n",
    "1. What should be the primary key of the table?\n",
    "2. What is the type of `joinyear`?\n",
    "3. State a SQL query that shows the name of students that join before 2020.\n",
    "4. State a SQL query that shows the name, id, and the year the students joined the school, but only for ones that has the surname \"Chan\".\n",
    "5. Assume all students join this school at the age of 13. State a SQL query that shows the name of the student and their current age.\n",
    "\n",
    "---\n",
    "\n",
    "Answers are attached below:"
   ]
  },
  {
   "cell_type": "code",
   "execution_count": null,
   "metadata": {
    "vscode": {
     "languageId": "sql"
    }
   },
   "outputs": [],
   "source": [
    "-- 1. id\n",
    "\n",
    "-- 2. integer/number\n",
    "\n",
    "-- 3.\n",
    "SELECT ename FROM students\n",
    "WHERE joinyear < 2020;\n",
    "\n",
    "-- 4.\n",
    "SELECT * FROM students\n",
    "WHERE ename LIKE 'Chan %'; -- or 'Chan *'\n",
    "\n",
    "-- 5.\n",
    "SELECT ename, (13 + 2024 - joinyear) as age\n",
    "FROM students;"
   ]
  }
 ],
 "metadata": {
  "language_info": {
   "name": "python"
  }
 },
 "nbformat": 4,
 "nbformat_minor": 2
}
