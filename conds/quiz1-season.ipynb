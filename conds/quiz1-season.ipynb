{
 "cells": [
  {
   "cell_type": "markdown",
   "metadata": {},
   "source": [
    "# Conditionals Quiz 1\n",
    "(Created on 2024-06-18)\n",
    "\n",
    "---\n",
    "\n",
    "1. Create a program that meets the following requirements:\n",
    "\t- It should take in 1 line of input, where the possible inputs are integers ranging from 1 to 12.\n",
    "\t- It should output the corresponding month (in English) that the input represents.\n",
    "\n",
    "#### Examples\n",
    "> `Input a number (1~12): `***`3`***  \n",
    "> `Mar`\n",
    "\n",
    "---\n",
    "\n",
    "2. Extend the above program to also print out the current season on the next line."
   ]
  },
  {
   "cell_type": "code",
   "execution_count": null,
   "metadata": {},
   "outputs": [],
   "source": [
    "# Solution 1: match statement\n",
    "num = int(input(\"Input a number (1~12): \"))\n",
    "match num:\n",
    "    case 1:\n",
    "        print(\"Jan\")\n",
    "        print(\"Winter\")\n",
    "    case 2:\n",
    "        print(\"Feb\")\n",
    "        print(\"Winter\")\n",
    "    case 3:\n",
    "        print(\"Mar\")\n",
    "        print(\"Spring\")\n",
    "    case 4:\n",
    "        print(\"Apr\")\n",
    "        print(\"Spring\")\n",
    "    case 5:\n",
    "        print(\"May\")\n",
    "        print(\"Spring\")\n",
    "    case 6:\n",
    "        print(\"Jun\")\n",
    "        print(\"Summer\")\n",
    "    case 7:\n",
    "        print(\"Jul\")\n",
    "        print(\"Summer\")\n",
    "    case 8:\n",
    "        print(\"Aug\")\n",
    "        print(\"Summer\")\n",
    "    case 9:\n",
    "        print(\"Sep\")\n",
    "        print(\"Autumn\")\n",
    "    case 10:\n",
    "        print(\"Oct\")\n",
    "        print(\"Autumn\")\n",
    "    case 11:\n",
    "        print(\"Nov\")\n",
    "        print(\"Autumn\")\n",
    "    case 12:\n",
    "        print(\"Dec\")\n",
    "        print(\"Winter\")"
   ]
  },
  {
   "cell_type": "code",
   "execution_count": null,
   "metadata": {},
   "outputs": [],
   "source": [
    "# Solution 2: array lookup\n",
    "num = int(input(\"Input a number (1~12): \"))\n",
    "lookup = [\n",
    "    \"Jan\",\n",
    "    \"Feb\",\n",
    "    \"Mar\",\n",
    "    \"Apr\",\n",
    "    \"May\",\n",
    "    \"Jun\",\n",
    "    \"Jul\",\n",
    "    \"Aug\",\n",
    "    \"Sep\",\n",
    "    \"Oct\",\n",
    "    \"Nov\",\n",
    "    \"Dec\",\n",
    "]\n",
    "season = [\"Spring\", \"Summer\", \"Autumn\", \"Winter\"]\n",
    "season_lookup = [3, 3, 0, 0, 0, 1, 1, 1, 2, 2, 2, 3]\n",
    "print(lookup[num-1])\n",
    "print(season[season_lookup[num-1]])"
   ]
  },
  {
   "cell_type": "code",
   "execution_count": null,
   "metadata": {},
   "outputs": [],
   "source": [
    "# Solution 3: string lookup\n",
    "num = int(input(\"Input a number (1~12): \"))\n",
    "lookup = \"JanFebMarAprMayJunJulAugSepOctNovDec\"\n",
    "print(lookup[num*3-3:num*3])\n",
    "print([\"Spring\", \"Summer\", \"Autumn\", \"Winter\"][int(num/3)-1])"
   ]
  }
 ],
 "metadata": {
  "kernelspec": {
   "display_name": "Python 3",
   "language": "python",
   "name": "python3"
  },
  "language_info": {
   "codemirror_mode": {
    "name": "ipython",
    "version": 3
   },
   "file_extension": ".py",
   "mimetype": "text/x-python",
   "name": "python",
   "nbconvert_exporter": "python",
   "pygments_lexer": "ipython3",
   "version": "3.12.3"
  }
 },
 "nbformat": 4,
 "nbformat_minor": 2
}
