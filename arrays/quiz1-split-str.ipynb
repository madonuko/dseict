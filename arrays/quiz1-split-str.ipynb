{
 "cells": [
  {
   "cell_type": "markdown",
   "metadata": {},
   "source": [
    "# Arrays Quiz 1\n",
    "(Created on 2024-06-18)\n",
    "\n",
    "Consider the following program:"
   ]
  },
  {
   "cell_type": "code",
   "execution_count": 12,
   "metadata": {},
   "outputs": [],
   "source": [
    "def function_a(s, c):\n",
    "\tout = []\n",
    "\tcurrent = \"\"\n",
    "\tfor i in range(len(s)):\n",
    "\t\tif s[i] == c:\n",
    "\t\t\tout.append(current)\n",
    "\t\t\tcurrent = \"\"\n",
    "\t\telse:\n",
    "\t\t\tcurrent += s[i]\n",
    "\tif len(current) > 0:\n",
    "\t\tout.append(current)\n",
    "\treturn out"
   ]
  },
  {
   "cell_type": "markdown",
   "metadata": {},
   "source": [
    "1. What is the output of the following code?"
   ]
  },
  {
   "cell_type": "code",
   "execution_count": null,
   "metadata": {},
   "outputs": [],
   "source": [
    "print(function_a(\"hello\", \" \"))\n",
    "print(function_a(\"hello world\", \"o\"))\n",
    "print(function_a(\"1 2 3  \", \" \"))"
   ]
  },
  {
   "cell_type": "markdown",
   "metadata": {},
   "source": [
    "2. What is the purpose of `function_a`?\n",
    "3. Fill in the blank on line 5 below such that `function_b(\"1 2 3  \", \" \") == ['1', '2', '3']`."
   ]
  },
  {
   "cell_type": "code",
   "execution_count": 14,
   "metadata": {},
   "outputs": [],
   "source": [
    "def function_b(s, c):\n",
    "\tout = []\n",
    "\tcurrent = \"\"\n",
    "\tfor i in range(len(s)):\n",
    "\t\tif ___________:\n",
    "\t\t\tout.append(current)\n",
    "\t\t\tcurrent = \"\"\n",
    "\t\telse:\n",
    "\t\t\tcurrent += s[i]\n",
    "\tif len(current) > 0:\n",
    "\t\tout.append(current)\n",
    "\treturn out"
   ]
  }
 ],
 "metadata": {
  "kernelspec": {
   "display_name": "Python 3",
   "language": "python",
   "name": "python3"
  },
  "language_info": {
   "codemirror_mode": {
    "name": "ipython",
    "version": 3
   },
   "file_extension": ".py",
   "mimetype": "text/x-python",
   "name": "python",
   "nbconvert_exporter": "python",
   "pygments_lexer": "ipython3",
   "version": "3.12.3"
  }
 },
 "nbformat": 4,
 "nbformat_minor": 2
}
