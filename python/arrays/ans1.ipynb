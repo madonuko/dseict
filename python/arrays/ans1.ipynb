{
 "cells": [
  {
   "cell_type": "markdown",
   "metadata": {},
   "source": [
    "# Arrays Quiz 1 Answers\n",
    "\n",
    "2. To split the strings apart by `c`.\n",
    "3. `len(current) != 0` (or `>=`)\n",
    "\n",
    "Following is for reference:"
   ]
  },
  {
   "cell_type": "code",
   "execution_count": 4,
   "metadata": {},
   "outputs": [
    {
     "name": "stdout",
     "output_type": "stream",
     "text": [
      "['1', '2', '3', '']\n",
      "['1', '2', '3']\n"
     ]
    }
   ],
   "source": [
    "def function_a(s, c):\n",
    "\tout = []\n",
    "\tcurrent = \"\"\n",
    "\tfor i in range(len(s)):\n",
    "\t\tif s[i] == c:\n",
    "\t\t\tout.append(current)\n",
    "\t\t\tcurrent = \"\"\n",
    "\t\telse:\n",
    "\t\t\tcurrent += s[i]\n",
    "\tif len(current) > 0:\n",
    "\t\tout.append(current)\n",
    "\treturn out\n",
    "\n",
    "def function_b(s, c):\n",
    "\tout = []\n",
    "\tcurrent = \"\"\n",
    "\tfor i in range(len(s)):\n",
    "\t\tif s[i] == c:\n",
    "\t\t\tif len(current) != 0:\n",
    "\t\t\t\tout.append(current)\n",
    "\t\t\t\tcurrent = \"\"\n",
    "\t\telse:\n",
    "\t\t\tcurrent += s[i]\n",
    "\tif len(current) > 0:\n",
    "\t\tout.append(current)\n",
    "\treturn out\n",
    "\n",
    "\n",
    "print(function_a(\"1 2 3  \", ' '))\n",
    "print(function_b(\"1 2 3  \", ' '))"
   ]
  }
 ],
 "metadata": {
  "kernelspec": {
   "display_name": "Python 3",
   "language": "python",
   "name": "python3"
  },
  "language_info": {
   "codemirror_mode": {
    "name": "ipython",
    "version": 3
   },
   "file_extension": ".py",
   "mimetype": "text/x-python",
   "name": "python",
   "nbconvert_exporter": "python",
   "pygments_lexer": "ipython3",
   "version": "3.12.3"
  }
 },
 "nbformat": 4,
 "nbformat_minor": 2
}
