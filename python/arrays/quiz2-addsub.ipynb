{
 "cells": [
  {
   "cell_type": "markdown",
   "metadata": {},
   "source": [
    "# Arrays Quiz 2\n",
    "(Created on 2024-06-21)\n",
    "Difficulty Lvl 4½\n",
    "\n",
    "Write a program that takes in numerical inputs until the user sends an empty line, then:\n",
    "- for the 1st, 3rd, 5th, … numerical inputs, add them together\n",
    "- subtract the 2nd, 4th, 6th, … numerical inputs from the above sum\n",
    "- output the final value from the subtraction\n",
    "\n",
    "\n",
    "You are advised to use an array.\n",
    "\n",
    "---\n",
    "\n",
    "Answers are attached below:"
   ]
  },
  {
   "cell_type": "code",
   "execution_count": null,
   "metadata": {},
   "outputs": [],
   "source": [
    "# Solution 1 (Lvl 4½)\n",
    "flag = True\n",
    "arr = []\n",
    "while flag:\n",
    "  x = input()\n",
    "  if x == \"\":\n",
    "    flag = False\n",
    "  else:\n",
    "    arr.append(int(x))\n",
    "\n",
    "total = 0\n",
    "for i in range(len(arr)):\n",
    "  if i % 2 == 0:  # python starts from *index 0*\n",
    "    total += arr[i]\n",
    "  else:\n",
    "    total -= arr[i]\n",
    "\n",
    "print(total)\n"
   ]
  },
  {
   "cell_type": "code",
   "execution_count": null,
   "metadata": {},
   "outputs": [],
   "source": [
    "# Solution 2 (Lvl 5*?)\n",
    "arr = []\n",
    "while True:\n",
    "  x = input()\n",
    "  if x == \"\":\n",
    "    break\n",
    "  arr.append(int(x))\n",
    "\n",
    "total = 0\n",
    "for i in range(0, len(arr), 2):\n",
    "  #                         ^ skip every 2 num\n",
    "  total += arr[i]\n",
    "for i in range(1, len(arr), 2):\n",
    "  total -= arr[i]\n",
    "\n",
    "print(total)\n"
   ]
  },
  {
   "cell_type": "code",
   "execution_count": null,
   "metadata": {},
   "outputs": [],
   "source": [
    "# Solution 3 (Lvl 5** outsyl, avoid internal `sum()` fn)\n",
    "arr = []\n",
    "while (x := input()) != \"\":\n",
    "  arr.append(int(x))\n",
    "\n",
    "total = 0\n",
    "for i, x in enumerate(arr):\n",
    "  total += (-(i % 2) * 2 + 1) * x\n",
    "\n",
    "print(total)\n"
   ]
  },
  {
   "cell_type": "code",
   "execution_count": null,
   "metadata": {},
   "outputs": [],
   "source": [
    "# Solution 4 (Lvl 5, no array)\n",
    "i = 1\n",
    "total = 0\n",
    "while True:\n",
    "  x = input()\n",
    "  if x == \"\":\n",
    "    break\n",
    "  total += int(x)\n",
    "  if i % 2 == 0:\n",
    "    total -= int(x) * 2\n",
    "print(total)\n"
   ]
  }
 ],
 "metadata": {
  "kernelspec": {
   "display_name": "Python 3",
   "language": "python",
   "name": "python3"
  },
  "language_info": {
   "codemirror_mode": {
    "name": "ipython",
    "version": 3
   },
   "file_extension": ".py",
   "mimetype": "text/x-python",
   "name": "python",
   "nbconvert_exporter": "python",
   "pygments_lexer": "ipython3",
   "version": "3.12.3"
  }
 },
 "nbformat": 4,
 "nbformat_minor": 2
}
