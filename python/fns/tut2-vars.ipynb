{
 "cells": [
  {
   "cell_type": "markdown",
   "metadata": {},
   "source": [
    "# Variables/Parameters in Functions (Advanced)\n",
    "\n",
    "tut1 講到 functions 嘅基本用法。呢度會有更詳細嘅解說。\n",
    "\n",
    "### Practice 2.1\n",
    "寫出下面嘅 output，重温下 tut1 嘅嘢。你可以喺 Google Colab 到 run 佢去 check 答案。"
   ]
  },
  {
   "cell_type": "code",
   "execution_count": null,
   "metadata": {},
   "outputs": [],
   "source": [
    "x = 1\n",
    "y = 2\n",
    "\n",
    "\n",
    "def my_function(p):\n",
    "  print(\"p*x =\", p * x)\n",
    "  print(\"p*y =\", p * y)\n",
    "\n",
    "\n",
    "my_function(3)\n",
    "q = 5\n",
    "my_function(x + q)"
   ]
  },
  {
   "cell_type": "markdown",
   "metadata": {},
   "source": [
    "## Naming collisions\n",
    "\n",
    "如果你啱嗮，噉就恭喜你！錯咗就可能要返返去 tut1 重温下。\n",
    "\n",
    "但係如果係下面嘅 program 又會發生咩事？"
   ]
  },
  {
   "cell_type": "code",
   "execution_count": 2,
   "metadata": {},
   "outputs": [
    {
     "name": "stdout",
     "output_type": "stream",
     "text": [
      "q*x = 3\n",
      "q*y = 6\n",
      "q*x = 6\n",
      "q*y = 12\n"
     ]
    }
   ],
   "source": [
    "x = 1\n",
    "y = 2\n",
    "q = 5  # 但係呢度又定義 q\n",
    "\n",
    "\n",
    "def my_function(q):\n",
    "  #             ┬\n",
    "  #             ╰─ 轉咗做 q\n",
    "  print(\"q*x =\", q * x)\n",
    "  print(\"q*y =\", q * y)\n",
    "\n",
    "\n",
    "my_function(3)\n",
    "my_function(x + q)"
   ]
  },
  {
   "cell_type": "markdown",
   "metadata": {},
   "source": [
    "`my_function()` 入面嘅 `q`，點解會同出面嘅 `q` 唔同嘅？\n",
    "\n",
    "原因好簡單：function 入面整嘅 variables 即使同出面整嘅 variables 嘅名一樣，但係喺 function 入面用嘅時候就會用返入面整嘅 variables；  \n",
    "換言之，喺 function 入面使用一個 variable 嘅時候，python 會**先睇呢個 variable 喺同一個 function 入面**有冇定義過，有嘅就用，冇嘅先至退而求其次，check 返 function 出面嘅 variable。\n",
    "\n",
    "喺上面嘅例子，call `my_function(x + q)` 嗰陣，首先 python 會計到 `x + q` 等於 6，之後 substitute 入去 `my_function()` 入面嘅 `q`。  \n",
    "喺 `my_function()` 入面嘅 code 用 `q` 嗰陣，由於 **`q` 喺 `my_function()` 嘅 parameters 度定義過**，所以 python 會用嗰度嘅定義，即係 6。  \n",
    "但由於 **`x` 喺 `my_function()` 入面冇定義過**，所以 python 會用出面 `x = 1` 嘅定義。\n",
    "\n",
    "### Practice 2.2\n",
    "\n",
    "噉所以下面嘅 output 係……？"
   ]
  },
  {
   "cell_type": "code",
   "execution_count": null,
   "metadata": {},
   "outputs": [],
   "source": [
    "x = 0\n",
    "print(x)\n",
    "\n",
    "\n",
    "def another_function():\n",
    "  x = 1\n",
    "  print(x)\n",
    "  x = x + 1\n",
    "\n",
    "\n",
    "print(x)\n",
    "another_function()\n",
    "print(x)"
   ]
  },
  {
   "cell_type": "markdown",
   "metadata": {},
   "source": [
    "答案解說：`another_function()` 入面嘅 `x = 1` 係會喺個 function 入面定義一個**新** variable，  \n",
    "**雖然同出面嘅 `x` 同名，但實際上係兩個完完全全冇關係嘅 variables！**  \n",
    "之後 `x = x + 1` 入面所謂嘅 `x` 都係講緊 `another_function()` 入面嘅 `x` 嘅定義！"
   ]
  },
  {
   "cell_type": "markdown",
   "metadata": {},
   "source": [
    "## Global Variables\n",
    "\n",
    "噉如果我想喺 `another_function()` 入面用返出面嘅 `x` 嘅話？"
   ]
  },
  {
   "cell_type": "code",
   "execution_count": 2,
   "metadata": {},
   "outputs": [
    {
     "name": "stdout",
     "output_type": "stream",
     "text": [
      "0\n",
      "0\n",
      "1\n",
      "2\n"
     ]
    }
   ],
   "source": [
    "x = 0\n",
    "print(x)\n",
    "\n",
    "\n",
    "def another_function():\n",
    "  global x\n",
    "  #      ┬\n",
    "  #      ╰ 同 python 講要用返出面嘅 x\n",
    "  x = 1\n",
    "  print(x)\n",
    "  x = x + 1\n",
    "\n",
    "\n",
    "print(x)\n",
    "another_function()\n",
    "print(x)"
   ]
  },
  {
   "cell_type": "markdown",
   "metadata": {},
   "source": [
    "- 喺所有 function 出面嘅 variable = global variable\n",
    "- 喺某個 function 入面嘅 variable = local variable"
   ]
  }
 ],
 "metadata": {
  "kernelspec": {
   "display_name": "Python 3",
   "language": "python",
   "name": "python3"
  },
  "language_info": {
   "codemirror_mode": {
    "name": "ipython",
    "version": 3
   },
   "file_extension": ".py",
   "mimetype": "text/x-python",
   "name": "python",
   "nbconvert_exporter": "python",
   "pygments_lexer": "ipython3",
   "version": "3.12.3"
  }
 },
 "nbformat": 4,
 "nbformat_minor": 2
}
