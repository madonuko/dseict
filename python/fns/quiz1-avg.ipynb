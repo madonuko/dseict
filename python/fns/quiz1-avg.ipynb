{
 "cells": [
  {
   "cell_type": "markdown",
   "metadata": {},
   "source": [
    "# Functions Quiz 1\n",
    "(Created on 2024-06-18)\n",
    "\n",
    "1. Create a function named `sum_arr` such that it returns the sum of all numbers in the array provided as the only argument:\n",
    "\t- `sum_arr([1, 2, 3]) == 1 + 2 + 3`\n",
    "\t- `sum_arr([9, 5, 3, 7, 4]) == 9 + 5 + 3 + 7 + 4`\n",
    "\n",
    "2. Create a function named `avg_arr` such that it makes use of `sum_arr` to return the average of the numbers in the array provided as the only argument."
   ]
  },
  {
   "cell_type": "code",
   "execution_count": null,
   "metadata": {},
   "outputs": [],
   "source": [
    "# Solution 1\n",
    "def sum_arr(array):\n",
    "\ttotal = 0\n",
    "\tfor x in array:\n",
    "\t\ttotal += x\n",
    "\treturn total"
   ]
  },
  {
   "cell_type": "code",
   "execution_count": null,
   "metadata": {},
   "outputs": [],
   "source": [
    "\n",
    "# Solution 2\n",
    "def sum_arr(array):\n",
    "\ttotal = 0\n",
    "\tfor i in range(len(array)):\n",
    "\t\ttotal = total + array[i]\n",
    "\treturn total"
   ]
  },
  {
   "cell_type": "code",
   "execution_count": null,
   "metadata": {},
   "outputs": [],
   "source": [
    "def avg_arr(array):\n",
    "\treturn sum_arr(array) / len(array)"
   ]
  }
 ],
 "metadata": {
  "language_info": {
   "name": "python"
  }
 },
 "nbformat": 4,
 "nbformat_minor": 2
}
