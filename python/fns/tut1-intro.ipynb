{
 "cells": [
  {
   "cell_type": "markdown",
   "metadata": {},
   "source": [
    "# Functions\n",
    "\n",
    "首先：你要知道 function 有好多好多花名：\n",
    "\n",
    "- function (DSE 以外最常用)\n",
    "- 函數（中文）\n",
    "- subroutine\n",
    "- subprogram\n",
    "- procedure\n",
    "等等。\n",
    "\n",
    "## 咩係 function\n",
    "\n",
    "睇下下面嘅 program："
   ]
  },
  {
   "cell_type": "code",
   "execution_count": 4,
   "metadata": {},
   "outputs": [
    {
     "name": "stdout",
     "output_type": "stream",
     "text": [
      "The sum of the last 2 numbers are larger\n"
     ]
    }
   ],
   "source": [
    "x = input(\"Input 2 numbers (separate with spaces): \")\n",
    "\n",
    "numbers = []\n",
    "current = ''\n",
    "for ch in x:\n",
    "  if ch == ' ':\n",
    "    numbers.append(int(current))\n",
    "    current = ''\n",
    "  else:\n",
    "    current += ch\n",
    "if len(current) != 0:\n",
    "  numbers.append(int(current))\n",
    "\n",
    "if len(numbers) != 2:\n",
    "  print(\"You provided only \" + str(len(numbers)) + \" numbers\")\n",
    "  quit()\n",
    "\n",
    "x = input(\"Input another 2 numbers (separate with spaces): \")\n",
    "\n",
    "another_numbers = []\n",
    "current = ''\n",
    "for ch in x:\n",
    "  if ch == ' ':\n",
    "    another_numbers.append(int(current))\n",
    "    current = ''\n",
    "  else:\n",
    "    current += ch\n",
    "if len(current) != 0:\n",
    "  another_numbers.append(int(current))\n",
    "\n",
    "if len(another_numbers) != 2:\n",
    "  print(\"You provided only \" + str(len(another_numbers)) + \" numbers\")\n",
    "  quit()\n",
    "\n",
    "sum1 = numbers[0] + numbers[1]\n",
    "sum2 = another_numbers[0] + another_numbers[1]\n",
    "if sum1 > sum2:\n",
    "  print(\"The sum of the first 2 numbers are larger\")\n",
    "elif sum1 == sum2:\n",
    "  print(\"The sum of the first 2 numbers and the sum of the last 2 numbers are equal\")\n",
    "else:\n",
    "  print(\"The sum of the last 2 numbers are larger\")"
   ]
  },
  {
   "cell_type": "markdown",
   "metadata": {},
   "source": [
    "如果你唔明上面發生咩事，唔緊要，因為你冇需要；重點係上面嘅 program 嘅**重覆性**都幾大。  \n",
    "例如，**第1~16行**同**第18~33行**其實基本上*做緊同一樣嘢*；除咗 variable 名之外，唯一唔同嘅只不過就係`input()`度嘅 string。  \n",
    "如果可以**重用**呢啲 code 嘅話……"
   ]
  },
  {
   "cell_type": "code",
   "execution_count": 5,
   "metadata": {},
   "outputs": [
    {
     "name": "stdout",
     "output_type": "stream",
     "text": [
      "The sum of the last 2 numbers are larger\n"
     ]
    }
   ],
   "source": [
    "def my_function(prompt):\n",
    "  x = input(prompt)\n",
    "\n",
    "  numbers = []\n",
    "  current = ''\n",
    "  for ch in x:\n",
    "    if ch == ' ':\n",
    "      numbers.append(int(current))\n",
    "      current = ''\n",
    "    else:\n",
    "      current += ch\n",
    "  if len(current) != 0:\n",
    "    numbers.append(int(current))\n",
    "\n",
    "  if len(numbers) != 2:\n",
    "    print(\"You provided only \" + str(len(numbers)) + \" numbers\")\n",
    "    quit()\n",
    "  return numbers\n",
    "\n",
    "numbers = my_function(\"Input 2 numbers (separate with spaces): \")\n",
    "another_numbers = my_function(\"Input another 2 numbers (separate with spaces): \")\n",
    "\n",
    "sum1 = numbers[0] + numbers[1]\n",
    "sum2 = another_numbers[0] + another_numbers[1]\n",
    "if sum1 > sum2:\n",
    "  print(\"The sum of the first 2 numbers are larger\")\n",
    "elif sum1 == sum2:\n",
    "  print(\"The sum of the first 2 numbers and the sum of the last 2 numbers are equal\")\n",
    "else:\n",
    "  print(\"The sum of the last 2 numbers are larger\")"
   ]
  },
  {
   "cell_type": "markdown",
   "metadata": {},
   "source": [
    "唔好理上面發生咗咩事先，總之明顯地，成個 program 短咗，重覆性都有減少。呢個就係 function 本身嘅意義。\n",
    "\n",
    "## 點用 function\n",
    "\n",
    "首先你要整一個 function（英：declare a function）。\n",
    "\n",
    "一個 function 入面會有一系列嘅 instruction / code，\n",
    "而要重用啲 code 嘅時候就要「用」返個 function。（英：calling a function）"
   ]
  },
  {
   "cell_type": "code",
   "execution_count": null,
   "metadata": {},
   "outputs": [],
   "source": [
    "def 新嘅function名():\n",
    "  # 係個 function 入面寫低想重用嘅 code\n",
    "  print(\"Hello\")\n",
    "  print(\"Goodbye\")"
   ]
  },
  {
   "cell_type": "markdown",
   "metadata": {},
   "source": [
    "如果你直接 run 上面 3 行嘅 program，實際上係唔會有 output，\n",
    "因為你淨係**整/declare**咗個 function，而冇**用/call**過佢。\n",
    "\n",
    "如果要 call 一個function："
   ]
  },
  {
   "cell_type": "code",
   "execution_count": null,
   "metadata": {},
   "outputs": [
    {
     "name": "stdout",
     "output_type": "stream",
     "text": [
      "Hello\n",
      "Goodbye\n"
     ]
    }
   ],
   "source": [
    "新嘅function名()"
   ]
  },
  {
   "cell_type": "markdown",
   "metadata": {},
   "source": [
    "噉先至會係個 output 到見到：\n",
    "```\n",
    "Hello\n",
    "Goodbye\n",
    "```\n",
    "你都可以 call 幾次："
   ]
  },
  {
   "cell_type": "code",
   "execution_count": null,
   "metadata": {},
   "outputs": [
    {
     "name": "stdout",
     "output_type": "stream",
     "text": [
      "Hello\n",
      "Goodbye\n",
      "Hello\n",
      "Goodbye\n",
      "Hello\n",
      "Goodbye\n"
     ]
    }
   ],
   "source": [
    "新嘅function名()\n",
    "新嘅function名()\n",
    "新嘅function名()"
   ]
  },
  {
   "cell_type": "markdown",
   "metadata": {},
   "source": [
    "事實上，你已經識好幾個 Python 度本身就有嘅 function：\n",
    "- `input()`\n",
    "- `print()`"
   ]
  }
 ],
 "metadata": {
  "kernelspec": {
   "display_name": "Python 3",
   "language": "python",
   "name": "python3"
  },
  "language_info": {
   "codemirror_mode": {
    "name": "ipython",
    "version": 3
   },
   "file_extension": ".py",
   "mimetype": "text/x-python",
   "name": "python",
   "nbconvert_exporter": "python",
   "pygments_lexer": "ipython3",
   "version": "3.12.3"
  }
 },
 "nbformat": 4,
 "nbformat_minor": 2
}
