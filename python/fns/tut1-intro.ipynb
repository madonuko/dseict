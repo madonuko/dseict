{
 "cells": [
  {
   "cell_type": "markdown",
   "metadata": {},
   "source": [
    "# Functions\n",
    "\n",
    "首先：你要知道 function 有好多好多花名：\n",
    "\n",
    "- function (DSE 以外最常用)\n",
    "- 函數（中文）\n",
    "- subroutine\n",
    "- subprogram\n",
    "- procedure\n",
    "等等。\n",
    "\n",
    "## 咩係 function\n",
    "\n",
    "睇下下面嘅 program："
   ]
  },
  {
   "cell_type": "code",
   "execution_count": 4,
   "metadata": {},
   "outputs": [
    {
     "name": "stdout",
     "output_type": "stream",
     "text": [
      "The sum of the last 2 numbers are larger\n"
     ]
    }
   ],
   "source": [
    "x = input(\"Input 2 numbers (separate with spaces): \")\n",
    "\n",
    "numbers = []\n",
    "current = ''\n",
    "for ch in x:\n",
    "  if ch == ' ':\n",
    "    numbers.append(int(current))\n",
    "    current = ''\n",
    "  else:\n",
    "    current += ch\n",
    "if len(current) != 0:\n",
    "  numbers.append(int(current))\n",
    "\n",
    "if len(numbers) != 2:\n",
    "  print(\"You provided only \" + str(len(numbers)) + \" numbers\")\n",
    "  quit()\n",
    "\n",
    "x = input(\"Input another 2 numbers (separate with spaces): \")\n",
    "\n",
    "another_numbers = []\n",
    "current = ''\n",
    "for ch in x:\n",
    "  if ch == ' ':\n",
    "    another_numbers.append(int(current))\n",
    "    current = ''\n",
    "  else:\n",
    "    current += ch\n",
    "if len(current) != 0:\n",
    "  another_numbers.append(int(current))\n",
    "\n",
    "if len(another_numbers) != 2:\n",
    "  print(\"You provided only \" + str(len(another_numbers)) + \" numbers\")\n",
    "  quit()\n",
    "\n",
    "sum1 = numbers[0] + numbers[1]\n",
    "sum2 = another_numbers[0] + another_numbers[1]\n",
    "if sum1 > sum2:\n",
    "  print(\"The sum of the first 2 numbers are larger\")\n",
    "elif sum1 == sum2:\n",
    "  print(\"The sum of the first 2 numbers and the sum of the last 2 numbers are equal\")\n",
    "else:\n",
    "  print(\"The sum of the last 2 numbers are larger\")"
   ]
  },
  {
   "cell_type": "markdown",
   "metadata": {},
   "source": [
    "如果你唔明上面發生咩事，唔緊要，因為你冇需要；重點係上面嘅 program 嘅**重覆性**都幾大。  \n",
    "例如，**第1~16行**同**第18~33行**其實基本上*做緊同一樣嘢*；除咗 variable 名之外，唯一唔同嘅只不過就係`input()`度嘅 string。  \n",
    "如果可以**重用**呢啲 code 嘅話……"
   ]
  },
  {
   "cell_type": "code",
   "execution_count": 5,
   "metadata": {},
   "outputs": [
    {
     "name": "stdout",
     "output_type": "stream",
     "text": [
      "The sum of the last 2 numbers are larger\n"
     ]
    }
   ],
   "source": [
    "def my_function(prompt):\n",
    "  x = input(prompt)\n",
    "\n",
    "  numbers = []\n",
    "  current = ''\n",
    "  for ch in x:\n",
    "    if ch == ' ':\n",
    "      numbers.append(int(current))\n",
    "      current = ''\n",
    "    else:\n",
    "      current += ch\n",
    "  if len(current) != 0:\n",
    "    numbers.append(int(current))\n",
    "\n",
    "  if len(numbers) != 2:\n",
    "    print(\"You provided only \" + str(len(numbers)) + \" numbers\")\n",
    "    quit()\n",
    "  return numbers\n",
    "\n",
    "numbers = my_function(\"Input 2 numbers (separate with spaces): \")\n",
    "another_numbers = my_function(\"Input another 2 numbers (separate with spaces): \")\n",
    "\n",
    "sum1 = numbers[0] + numbers[1]\n",
    "sum2 = another_numbers[0] + another_numbers[1]\n",
    "if sum1 > sum2:\n",
    "  print(\"The sum of the first 2 numbers are larger\")\n",
    "elif sum1 == sum2:\n",
    "  print(\"The sum of the first 2 numbers and the sum of the last 2 numbers are equal\")\n",
    "else:\n",
    "  print(\"The sum of the last 2 numbers are larger\")"
   ]
  },
  {
   "cell_type": "markdown",
   "metadata": {},
   "source": [
    "唔好理上面發生咗咩事先，總之明顯地，成個 program 短咗，重覆性都有減少。呢個就係 function 本身嘅意義。\n",
    "\n",
    "## 點用 function（基本）\n",
    "\n",
    "首先你要整一個 function（英：declare a function）。\n",
    "\n",
    "一個 function 入面會有一系列嘅 instruction / code，\n",
    "而要重用啲 code 嘅時候就要「用」返個 function。（英：calling a function）"
   ]
  },
  {
   "cell_type": "code",
   "execution_count": null,
   "metadata": {},
   "outputs": [],
   "source": [
    "def 新嘅function名():\n",
    "  # 係個 function 入面寫低想重用嘅 code\n",
    "  print(\"Hello\")\n",
    "  print(\"Goodbye\")"
   ]
  },
  {
   "cell_type": "markdown",
   "metadata": {},
   "source": [
    "如果你直接 run 上面 3 行嘅 program，實際上係唔會有 output，\n",
    "因為你淨係**整/declare**咗個 function，而冇**用/call**過佢。\n",
    "\n",
    "如果要 call 一個function："
   ]
  },
  {
   "cell_type": "code",
   "execution_count": null,
   "metadata": {},
   "outputs": [
    {
     "name": "stdout",
     "output_type": "stream",
     "text": [
      "Hello\n",
      "Goodbye\n"
     ]
    }
   ],
   "source": [
    "新嘅function名()"
   ]
  },
  {
   "cell_type": "markdown",
   "metadata": {},
   "source": [
    "噉先至會係個 output 到見到：\n",
    "```\n",
    "Hello\n",
    "Goodbye\n",
    "```\n",
    "你都可以 call 幾次："
   ]
  },
  {
   "cell_type": "code",
   "execution_count": null,
   "metadata": {},
   "outputs": [
    {
     "name": "stdout",
     "output_type": "stream",
     "text": [
      "Hello\n",
      "Goodbye\n",
      "Hello\n",
      "Goodbye\n",
      "Hello\n",
      "Goodbye\n"
     ]
    }
   ],
   "source": [
    "新嘅function名()\n",
    "新嘅function名()\n",
    "新嘅function名()"
   ]
  },
  {
   "cell_type": "markdown",
   "metadata": {},
   "source": [
    "事實上，你已經識好幾個 Python 度本身就有嘅 function：\n",
    "- `input()`\n",
    "- `print()`"
   ]
  },
  {
   "cell_type": "markdown",
   "metadata": {},
   "source": [
    "### Parameters: 將變數 (variables) 放入去 function\n",
    "\n",
    "如果你想重用嘅 code 唔係 100% 一樣，你可能就要新增 parameters。\n",
    "Parameters 就係 call 個 function 嗰陣將出面嘅 variable 或者 constant 放到 function 入面，喺 function 入面用到嘅 variables。\n",
    "\n",
    "簡單啲噉講，就好似有個模板／框架噉，跟住將出面嘅 variables 進行 substitution。"
   ]
  },
  {
   "cell_type": "code",
   "execution_count": 4,
   "metadata": {},
   "outputs": [
    {
     "name": "stdout",
     "output_type": "stream",
     "text": [
      "100\n",
      "256\n",
      "5 to the power of 3 is 125\n"
     ]
    }
   ],
   "source": [
    "# 首先要整一個 function (define a function)\n",
    "def power(root, index):\n",
    "  # ──┬── ══╤═  ══╤══\n",
    "  #   │     ╰─────┴──── parameters\n",
    "  #   ╰─ function 名\n",
    "  ans = 1\n",
    "  for _ in range(0, index):\n",
    "    #               ════╤\n",
    "    ans = ans * root  # │\n",
    "    #           ══╤═    ├─ parameters 可以喺 function 內當做正常 variables 用\n",
    "  return ans  #   ╰─────╯\n",
    "# ─┬──── ═╤═\n",
    "#  │      ╰─────────────────────────────────────────╮\n",
    "#  ╰─ return 可以指明 呢個 function 嘅 output 係咩     │\n",
    "#                                                   │\n",
    "print(power(10, 2))  # 10²                         ═╧═\n",
    "# 呢度就會將 `power(10, 2)` 代成 `power()` 入面計好嘅 `ans`\n",
    "\n",
    "print(power(2, 8))  # 2⁸\n",
    "\n",
    "base = int(input(\"Input base: \"))\n",
    "index = int(input(\"Input index: \"))\n",
    "print(base, \"to the power of\", index, \"is\", power(base, index))"
   ]
  },
  {
   "cell_type": "markdown",
   "metadata": {},
   "source": [
    "當你行 `print(power(10, 2))` 嘅時候，python 首先會行咗 `power(10, 2)`，執行 `power(root, index)`，相當於："
   ]
  },
  {
   "cell_type": "code",
   "execution_count": 5,
   "metadata": {},
   "outputs": [],
   "source": [
    "def power(root, index):\n",
    "  #       ────  ─────\n",
    "  #     代做 10  代做 2\n",
    "  # 跟住繼續行入面嘅 code\n",
    "  ans = 1\n",
    "  for _ in range(0, index):  # 變做 → for _ in range(0, 2):\n",
    "    ans = ans * root  #        變做 →   ans = ans * 10\n",
    "  # 到呢個位，python 會計到 ans 係 100\n",
    "  # 到最尾見到 return，就會退出 function，返返去原本 call 呢個 function 嘅地方\n",
    "  return ans\n",
    "  # 即係 return 100"
   ]
  },
  {
   "cell_type": "code",
   "execution_count": null,
   "metadata": {},
   "outputs": [],
   "source": [
    "# 原本係\n",
    "print(power(10, 2))\n",
    "#     ^^^^^^^^^^^^\n",
    "# python 內部會將佢變成 `power(10, 2)` 入面 `return` 字眼嘅後面嗰舊嘢嘅數值，即係 100\n",
    "print(100)\n",
    "# 之後照常執行 print(100)。記住，一行 code 入面有好幾個 function call 嘅時候，python 會由內至外 call/substitute 佢哋\n",
    "# 之後就會照常行下面其餘嘅 code，例如 print(power(2, 8))"
   ]
  }
 ],
 "metadata": {
  "kernelspec": {
   "display_name": "Python 3",
   "language": "python",
   "name": "python3"
  },
  "language_info": {
   "codemirror_mode": {
    "name": "ipython",
    "version": 3
   },
   "file_extension": ".py",
   "mimetype": "text/x-python",
   "name": "python",
   "nbconvert_exporter": "python",
   "pygments_lexer": "ipython3",
   "version": "3.12.3"
  }
 },
 "nbformat": 4,
 "nbformat_minor": 2
}
